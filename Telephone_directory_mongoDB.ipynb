{
 "cells": [
  {
   "cell_type": "code",
   "execution_count": 1,
   "id": "01be4a09",
   "metadata": {},
   "outputs": [
    {
     "name": "stdout",
     "output_type": "stream",
     "text": [
      "Collecting pymongo\n",
      "  Using cached pymongo-4.3.2-cp310-cp310-win_amd64.whl (381 kB)\n",
      "Collecting dnspython<3.0.0,>=1.16.0\n",
      "  Using cached dnspython-2.2.1-py3-none-any.whl (269 kB)\n",
      "Installing collected packages: dnspython, pymongo\n",
      "Successfully installed dnspython-2.2.1 pymongo-4.3.2\n"
     ]
    }
   ],
   "source": [
    "!pip install pymongo"
   ]
  },
  {
   "cell_type": "code",
   "execution_count": 2,
   "id": "cbec262a",
   "metadata": {},
   "outputs": [],
   "source": [
    "import pymongo"
   ]
  },
  {
   "cell_type": "code",
   "execution_count": 42,
   "id": "1f518a47",
   "metadata": {},
   "outputs": [],
   "source": [
    "client = pymongo.MongoClient(\"mongodb://localhost:27017\")"
   ]
  },
  {
   "cell_type": "code",
   "execution_count": 4,
   "id": "63b185f5",
   "metadata": {},
   "outputs": [],
   "source": [
    "import json"
   ]
  },
  {
   "cell_type": "code",
   "execution_count": 6,
   "id": "c903f65b",
   "metadata": {},
   "outputs": [],
   "source": [
    "mydb = client[\"Telephone_Directory\"]"
   ]
  },
  {
   "cell_type": "code",
   "execution_count": 5,
   "id": "9dbeca5d",
   "metadata": {},
   "outputs": [],
   "source": [
    "from pymongo import MongoClient"
   ]
  },
  {
   "cell_type": "code",
   "execution_count": 7,
   "id": "bb224ceb",
   "metadata": {},
   "outputs": [],
   "source": [
    "mycol = mydb['people_information']"
   ]
  },
  {
   "cell_type": "code",
   "execution_count": 9,
   "id": "55892c50",
   "metadata": {},
   "outputs": [],
   "source": [
    "mydoc = [\n",
    "  { \"name\": \"Amy\", \"address\": \"Apple st 652\", \"numuber\":9962480121},\n",
    "  { \"name\": \"Hannah\", \"address\": \"Mountain 21\", \"numuber\":9962480022},\n",
    "  { \"name\": \"Michael\", \"address\": \"Valley 345\", \"numuber\":9962480123},\n",
    "  { \"name\": \"Sandy\", \"address\": \"Ocean blvd 2\", \"numuber\":9962400124},\n",
    "  { \"name\": \"Betty\", \"address\": \"Green Grass 1\", \"numuber\":9962280125},\n",
    "  { \"name\": \"Richard\", \"address\": \"Sky st 331\", \"numuber\":9962480126},\n",
    "  { \"name\": \"Susan\", \"address\": \"One way 98\", \"numuber\":9962480127},\n",
    "  { \"name\": \"Vicky\", \"address\": \"Yellow Garden 2\", \"numuber\":9962480128},\n",
    "  { \"name\": \"Ben\", \"address\": \"Park Lane 38\", \"numuber\":9962480129},\n",
    "  { \"name\": \"William\", \"address\": \"Central st 954\", \"numuber\":9962480110},\n",
    "  { \"name\": \"Chuck\", \"address\": \"Main Road 989\", \"numuber\":9962480111},\n",
    "  { \"name\": \"Viola\", \"address\": \"Sideway 1633\", \"numuber\":9962480112}\n",
    "]"
   ]
  },
  {
   "cell_type": "code",
   "execution_count": 13,
   "id": "480c42d8",
   "metadata": {},
   "outputs": [],
   "source": [
    "x = mycol.find_one({\"name\":\"Betty\"})"
   ]
  },
  {
   "cell_type": "code",
   "execution_count": 30,
   "id": "f16522b3",
   "metadata": {},
   "outputs": [
    {
     "name": "stdout",
     "output_type": "stream",
     "text": [
      "None\n"
     ]
    }
   ],
   "source": [
    " print(x)"
   ]
  },
  {
   "cell_type": "code",
   "execution_count": 29,
   "id": "1d8b71b0",
   "metadata": {},
   "outputs": [],
   "source": [
    "for x in mycol.find():\n"
   ]
  },
  {
   "cell_type": "code",
   "execution_count": 36,
   "id": "39aa5749",
   "metadata": {},
   "outputs": [
    {
     "name": "stdout",
     "output_type": "stream",
     "text": [
      "None\n"
     ]
    }
   ],
   "source": [
    "print(x)"
   ]
  },
  {
   "cell_type": "code",
   "execution_count": 35,
   "id": "971b7e1a",
   "metadata": {},
   "outputs": [],
   "source": [
    "myquery = { \"address\": \"Park Lane 38\" }\n",
    "\n",
    "mydoc = mycol.find(myquery)\n",
    "\n",
    "for x in mydoc:\n",
    "  print(x) "
   ]
  },
  {
   "cell_type": "code",
   "execution_count": 38,
   "id": "83e20fca",
   "metadata": {},
   "outputs": [],
   "source": [
    "myquery = { \"address\": \"Valley 345\" }\n",
    "newvalues = { \"$set\": { \"address\": \"Canyon 123\" } }\n",
    "\n",
    "mycol.update_one(myquery, newvalues)\n",
    "\n",
    "#print \"customers\" after the update:\n",
    "for x in mycol.find():\n",
    "  "
   ]
  },
  {
   "cell_type": "code",
   "execution_count": 47,
   "id": "13ddc96d",
   "metadata": {},
   "outputs": [
    {
     "name": "stdout",
     "output_type": "stream",
     "text": [
      "None\n"
     ]
    }
   ],
   "source": [
    "print(x)"
   ]
  },
  {
   "cell_type": "code",
   "execution_count": 43,
   "id": "71402c4e",
   "metadata": {},
   "outputs": [
    {
     "data": {
      "text/plain": [
       "<pymongo.results.DeleteResult at 0x2659c172ef0>"
      ]
     },
     "execution_count": 43,
     "metadata": {},
     "output_type": "execute_result"
    }
   ],
   "source": [
    "myquery = { \"address\": \"Mountain 21\" }\n",
    "\n",
    "mycol.delete_one(myquery) "
   ]
  },
  {
   "cell_type": "code",
   "execution_count": 46,
   "id": "72f25e64",
   "metadata": {},
   "outputs": [
    {
     "data": {
      "text/plain": [
       "<pymongo.cursor.Cursor at 0x2659c4e7a60>"
      ]
     },
     "execution_count": 46,
     "metadata": {},
     "output_type": "execute_result"
    }
   ],
   "source": [
    "mydoc"
   ]
  }
 ],
 "metadata": {
  "kernelspec": {
   "display_name": "Python 3 (ipykernel)",
   "language": "python",
   "name": "python3"
  },
  "language_info": {
   "codemirror_mode": {
    "name": "ipython",
    "version": 3
   },
   "file_extension": ".py",
   "mimetype": "text/x-python",
   "name": "python",
   "nbconvert_exporter": "python",
   "pygments_lexer": "ipython3",
   "version": "3.10.7"
  }
 },
 "nbformat": 4,
 "nbformat_minor": 5
}
